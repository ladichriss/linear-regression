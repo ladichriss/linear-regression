{
 "cells": [
  {
   "cell_type": "markdown",
   "id": "20be5b49",
   "metadata": {
    "id": "20be5b49"
   },
   "source": [
    "# 📊 Regressione Lineare con il Dataset delle Altezze\n",
    "\n",
    "In questo notebook esploreremo un dataset contenente l'altezza dei padri (`fheight`) e dei figli (`sheight`), con l'obiettivo di costruire un modello di regressione lineare per prevedere l'altezza del figlio conoscendo quella del padre.\n",
    "\n",
    "---\n",
    "\n",
    "## Obiettivo\n",
    "\n",
    "Guidarti passo dopo passo attraverso il ciclo di vita di un progetto di *Machine Learning supervisionato*, includendo:\n",
    "- Esplorazione dei dati\n",
    "- Preprocessing\n",
    "- Addestramento del modello\n",
    "- Valutazione\n",
    "- Visualizzazione dei risultati\n"
   ]
  },
  {
   "cell_type": "markdown",
   "id": "77e4c836",
   "metadata": {
    "id": "77e4c836"
   },
   "source": [
    "## 🔍 1. Esplorazione del dataset"
   ]
  },
  {
   "cell_type": "markdown",
   "id": "29744039",
   "metadata": {
    "id": "29744039"
   },
   "source": [
    "### ✏️ Esercizio 1.1\n",
    "Carica il dataset `pearson_dataset.csv` e stampa le prime 5 righe per esplorare la struttura dei dati.\n"
   ]
  },
  {
   "cell_type": "code",
   "execution_count": 16,
   "id": "PPMDGTVy_Mbp",
   "metadata": {
    "id": "PPMDGTVy_Mbp"
   },
   "outputs": [
    {
     "data": {
      "text/html": [
       "<div>\n",
       "<style scoped>\n",
       "    .dataframe tbody tr th:only-of-type {\n",
       "        vertical-align: middle;\n",
       "    }\n",
       "\n",
       "    .dataframe tbody tr th {\n",
       "        vertical-align: top;\n",
       "    }\n",
       "\n",
       "    .dataframe thead th {\n",
       "        text-align: right;\n",
       "    }\n",
       "</style>\n",
       "<table border=\"1\" class=\"dataframe\">\n",
       "  <thead>\n",
       "    <tr style=\"text-align: right;\">\n",
       "      <th></th>\n",
       "      <th>fheight</th>\n",
       "      <th>sheight</th>\n",
       "    </tr>\n",
       "  </thead>\n",
       "  <tbody>\n",
       "    <tr>\n",
       "      <th>0</th>\n",
       "      <td>65.04851</td>\n",
       "      <td>59.77827</td>\n",
       "    </tr>\n",
       "    <tr>\n",
       "      <th>1</th>\n",
       "      <td>63.25094</td>\n",
       "      <td>63.21404</td>\n",
       "    </tr>\n",
       "    <tr>\n",
       "      <th>2</th>\n",
       "      <td>64.95532</td>\n",
       "      <td>63.34242</td>\n",
       "    </tr>\n",
       "    <tr>\n",
       "      <th>3</th>\n",
       "      <td>65.75250</td>\n",
       "      <td>62.79238</td>\n",
       "    </tr>\n",
       "    <tr>\n",
       "      <th>4</th>\n",
       "      <td>61.13723</td>\n",
       "      <td>64.28113</td>\n",
       "    </tr>\n",
       "  </tbody>\n",
       "</table>\n",
       "</div>"
      ],
      "text/plain": [
       "    fheight   sheight\n",
       "0  65.04851  59.77827\n",
       "1  63.25094  63.21404\n",
       "2  64.95532  63.34242\n",
       "3  65.75250  62.79238\n",
       "4  61.13723  64.28113"
      ]
     },
     "execution_count": 16,
     "metadata": {},
     "output_type": "execute_result"
    }
   ],
   "source": [
    "# Qui faccio l'esercizio 1.1\n",
    "import pandas as pd\n",
    "import matplotlib.pyplot as plt\n",
    "\n",
    "dataframe = pd.read_csv(\"pearson_dataset.csv\")\n",
    "dataframe.head()"
   ]
  },
  {
   "cell_type": "code",
   "execution_count": 2,
   "id": "dd0af111-0264-4a23-8d51-3e9a0b179366",
   "metadata": {},
   "outputs": [
    {
     "ename": "NameError",
     "evalue": "name 'dataframe' is not defined",
     "output_type": "error",
     "traceback": [
      "\u001b[1;31m---------------------------------------------------------------------------\u001b[0m",
      "\u001b[1;31mNameError\u001b[0m                                 Traceback (most recent call last)",
      "Cell \u001b[1;32mIn[2], line 1\u001b[0m\n\u001b[1;32m----> 1\u001b[0m \u001b[43mdataframe\u001b[49m\u001b[38;5;241m.\u001b[39minfo()\n",
      "\u001b[1;31mNameError\u001b[0m: name 'dataframe' is not defined"
     ]
    }
   ],
   "source": [
    "dataframe.info()"
   ]
  },
  {
   "cell_type": "markdown",
   "id": "05171f16",
   "metadata": {
    "id": "05171f16"
   },
   "source": [
    "### ✏️ Esercizio 1.2\n",
    "Calcola media, mediana e deviazione standard delle due colonne `fheight` e `sheight`.\n"
   ]
  },
  {
   "cell_type": "code",
   "execution_count": 18,
   "id": "NEZIWloG_Pca",
   "metadata": {
    "id": "NEZIWloG_Pca"
   },
   "outputs": [
    {
     "name": "stdout",
     "output_type": "stream",
     "text": [
      "La media è: \n",
      "fheight    67.687097\n",
      "sheight    68.684070\n",
      "dtype: float64\n",
      "\n",
      "La mediana è: \n",
      "fheight    67.76660\n",
      "sheight    68.61582\n",
      "dtype: float64\n",
      "\n",
      "La deviazione standard è: \n",
      "fheight    2.744868\n",
      "sheight    2.814702\n",
      "dtype: float64\n"
     ]
    }
   ],
   "source": [
    "# Qui esercizio 1.2\n",
    "import pandas as pd\n",
    "\n",
    "dataframe = pd.read_csv(\"pearson_dataset.csv\")\n",
    "media = dataframe.mean()\n",
    "print(\"La media è: \")\n",
    "print(media)\n",
    "print(\"\")\n",
    "\n",
    "mediana = dataframe.median()\n",
    "print(\"La mediana è: \")\n",
    "print(mediana)\n",
    "print(\"\")\n",
    "\n",
    "deviazione = dataframe.std()\n",
    "print(\"La deviazione standard è: \")\n",
    "print(deviazione)"
   ]
  },
  {
   "cell_type": "markdown",
   "id": "0f2d56aa",
   "metadata": {
    "id": "0f2d56aa"
   },
   "source": [
    "### ✏️ Esercizio 1.3\n",
    "Invoca la funzione per disegnare uno scatterplot con `fheight` sull'asse X e `sheight` sull'asse Y per visualizzare la relazione tra le due variabili.\n",
    "\n",
    "\n"
   ]
  },
  {
   "cell_type": "code",
   "execution_count": 3,
   "id": "4qTBIKPw_fbi",
   "metadata": {
    "id": "4qTBIKPw_fbi",
    "scrolled": true
   },
   "outputs": [
    {
     "ename": "ModuleNotFoundError",
     "evalue": "No module named 'matplotlib'",
     "output_type": "error",
     "traceback": [
      "\u001b[1;31m---------------------------------------------------------------------------\u001b[0m",
      "\u001b[1;31mModuleNotFoundError\u001b[0m                       Traceback (most recent call last)",
      "Cell \u001b[1;32mIn[3], line 1\u001b[0m\n\u001b[1;32m----> 1\u001b[0m \u001b[38;5;28;01mimport\u001b[39;00m\u001b[38;5;250m \u001b[39m\u001b[38;5;21;01mmatplotlib\u001b[39;00m\u001b[38;5;21;01m.\u001b[39;00m\u001b[38;5;21;01mpyplot\u001b[39;00m\u001b[38;5;250m \u001b[39m\u001b[38;5;28;01mas\u001b[39;00m\u001b[38;5;250m \u001b[39m\u001b[38;5;21;01mplt\u001b[39;00m\n\u001b[0;32m      3\u001b[0m \u001b[38;5;28;01mdef\u001b[39;00m\u001b[38;5;250m \u001b[39m\u001b[38;5;21mplot_scatter\u001b[39m(df, x_col, y_col, x_label\u001b[38;5;241m=\u001b[39m\u001b[38;5;28;01mNone\u001b[39;00m, y_label\u001b[38;5;241m=\u001b[39m\u001b[38;5;28;01mNone\u001b[39;00m, title\u001b[38;5;241m=\u001b[39m\u001b[38;5;28;01mNone\u001b[39;00m):\n\u001b[0;32m      4\u001b[0m \u001b[38;5;250m    \u001b[39m\u001b[38;5;124;03m\"\"\"\u001b[39;00m\n\u001b[0;32m      5\u001b[0m \u001b[38;5;124;03m    Crea uno scatter plot generico tra due colonne di un DataFrame.\u001b[39;00m\n\u001b[0;32m      6\u001b[0m \n\u001b[1;32m   (...)\u001b[0m\n\u001b[0;32m     13\u001b[0m \u001b[38;5;124;03m    - title: titolo del grafico (opzionale)\u001b[39;00m\n\u001b[0;32m     14\u001b[0m \u001b[38;5;124;03m    \"\"\"\u001b[39;00m\n",
      "\u001b[1;31mModuleNotFoundError\u001b[0m: No module named 'matplotlib'"
     ]
    }
   ],
   "source": [
    "import matplotlib.pyplot as plt\n",
    "\n",
    "def plot_scatter(df, x_col, y_col, x_label=None, y_label=None, title=None):\n",
    "    \"\"\"\n",
    "    Crea uno scatter plot generico tra due colonne di un DataFrame.\n",
    "\n",
    "    Parametri:\n",
    "    - df: pandas DataFrame contenente i dati\n",
    "    - x_col: nome della colonna da usare sull'asse X\n",
    "    - y_col: nome della colonna da usare sull'asse Y\n",
    "    - x_label: etichetta asse X (opzionale)\n",
    "    - y_label: etichetta asse Y (opzionale)\n",
    "    - title: titolo del grafico (opzionale)\n",
    "    \"\"\"\n",
    "    plt.figure(figsize=(8, 5))\n",
    "    plt.scatter(df[x_col], df[y_col], alpha=0.7)\n",
    "    plt.xlabel(x_label if x_label else x_col)\n",
    "    plt.ylabel(y_label if y_label else y_col)\n",
    "    plt.title(title if title else f\"{y_col} vs {x_col}\")\n",
    "    plt.grid(True)\n",
    "    plt.show()\n",
    "\n",
    "# Esempio d'uso\n",
    "plot_scatter(dataframe, \"fheight\", \"sheight\", \"Altezza del padre\", \"Altezza del figlio\", \"Relazione tra altezze\")\n"
   ]
  },
  {
   "cell_type": "markdown",
   "id": "2c3cc505",
   "metadata": {
    "id": "2c3cc505"
   },
   "source": [
    "## 🧹 2. Preprocessing dei dati"
   ]
  },
  {
   "cell_type": "markdown",
   "id": "511b76cd",
   "metadata": {
    "id": "511b76cd"
   },
   "source": [
    "### ✏️ Esercizio 2.1\n",
    "Verifica se ci sono valori nulli nel dataset.\n"
   ]
  },
  {
   "cell_type": "code",
   "execution_count": 10,
   "id": "YayQsgBI_mMP",
   "metadata": {
    "id": "YayQsgBI_mMP"
   },
   "outputs": [
    {
     "data": {
      "text/plain": [
       "fheight    0\n",
       "sheight    0\n",
       "dtype: int64"
      ]
     },
     "execution_count": 10,
     "metadata": {},
     "output_type": "execute_result"
    }
   ],
   "source": [
    "# Esercizio 2.1\n",
    "import pandas as pd\n",
    "\n",
    "df = pd.read_csv(\"pearson_dataset.csv\")\n",
    "df.isnull().sum()\n",
    "# sum() da la somma dei valori nulli\n",
    "\n",
    "\n"
   ]
  },
  {
   "cell_type": "code",
   "execution_count": 16,
   "id": "020eb6ea-de83-46d9-a708-43416a834e74",
   "metadata": {},
   "outputs": [
    {
     "ename": "ModuleNotFoundError",
     "evalue": "No module named 'matplotlib'",
     "output_type": "error",
     "traceback": [
      "\u001b[1;31m---------------------------------------------------------------------------\u001b[0m",
      "\u001b[1;31mModuleNotFoundError\u001b[0m                       Traceback (most recent call last)",
      "Cell \u001b[1;32mIn[16], line 1\u001b[0m\n\u001b[1;32m----> 1\u001b[0m \u001b[38;5;28;01mimport\u001b[39;00m\u001b[38;5;250m \u001b[39m\u001b[38;5;21;01mmatplotlib\u001b[39;00m\u001b[38;5;21;01m.\u001b[39;00m\u001b[38;5;21;01mpyplot\u001b[39;00m\u001b[38;5;250m \u001b[39m\u001b[38;5;28;01mas\u001b[39;00m\u001b[38;5;250m \u001b[39m\u001b[38;5;21;01mplt\u001b[39;00m\n\u001b[0;32m      3\u001b[0m plt\u001b[38;5;241m.\u001b[39mfigure(figsize\u001b[38;5;241m=\u001b[39m(\u001b[38;5;241m8\u001b[39m, \u001b[38;5;241m6\u001b[39m))\n\u001b[0;32m      4\u001b[0m plt\u001b[38;5;241m.\u001b[39mboxplot(df\u001b[38;5;241m.\u001b[39mvalues, vert \u001b[38;5;241m=\u001b[39m \u001b[38;5;28;01mFalse\u001b[39;00m, patch_artist \u001b[38;5;241m=\u001b[39m \u001b[38;5;28;01mTrue\u001b[39;00m)\n",
      "\u001b[1;31mModuleNotFoundError\u001b[0m: No module named 'matplotlib'"
     ]
    }
   ],
   "source": [
    "import matplotlib.pyplot as plt\n",
    "\n",
    "plt.figure(figsize=(8, 6))\n",
    "plt.boxplot(df.values, vert = False, patch_artist = True)\n",
    "\n",
    "plt.yticks(range(1, len(df.colums) + 1), df.columns)\n",
    "\n",
    "plt.title(\"Box Plot Orizzontale delle Colonne\")\n",
    "plt.grid(axis=\"x\", linestyle= \"--\", alpha = 0.7)\n",
    "\n",
    "plt.show()"
   ]
  },
  {
   "cell_type": "markdown",
   "id": "53bc0158",
   "metadata": {
    "id": "53bc0158"
   },
   "source": [
    "### ✏️ Esercizio 2.2\n",
    "Standardizza o normalizza i dati (opzionale) per sperimentare come cambiano i risultati.\n"
   ]
  },
  {
   "cell_type": "code",
   "execution_count": null,
   "id": "zKGuFD-b_oe-",
   "metadata": {
    "id": "zKGuFD-b_oe-"
   },
   "outputs": [],
   "source": [
    "# Esercizio 2.2\n",
    "dataframe."
   ]
  },
  {
   "cell_type": "markdown",
   "id": "18d92c61",
   "metadata": {
    "id": "18d92c61"
   },
   "source": [
    "## 🤖 3. Creazione del modello"
   ]
  },
  {
   "cell_type": "markdown",
   "id": "e6918d26",
   "metadata": {
    "id": "e6918d26"
   },
   "source": [
    "### ✏️ Esercizio 3.1\n",
    "Dividi il dataset in un training set (80%) e un test set (20%).\n"
   ]
  },
  {
   "cell_type": "code",
   "execution_count": null,
   "id": "V9RbdaGr_qTC",
   "metadata": {
    "id": "V9RbdaGr_qTC"
   },
   "outputs": [],
   "source": [
    "# Esercizio 3.1"
   ]
  },
  {
   "cell_type": "markdown",
   "id": "34df7e62",
   "metadata": {
    "id": "34df7e62"
   },
   "source": [
    "### ✏️ Esercizio 3.2\n",
    "Allena un modello di regressione lineare usando i dati di training.\n"
   ]
  },
  {
   "cell_type": "code",
   "execution_count": null,
   "id": "1PxOr0iS_swM",
   "metadata": {
    "id": "1PxOr0iS_swM"
   },
   "outputs": [],
   "source": [
    "# Esercizio 3.2"
   ]
  },
  {
   "cell_type": "markdown",
   "id": "f5b04b42",
   "metadata": {
    "id": "f5b04b42"
   },
   "source": [
    "### ✏️ Esercizio 3.3\n",
    "Visualizza la retta di regressione sopra il grafico scatter.\n",
    "\n",
    "👇 Ti diamo qui un esempio di funzione da utilizzare per questo tipo di visualizzazione:\n"
   ]
  },
  {
   "cell_type": "code",
   "execution_count": null,
   "id": "3cbeb23f",
   "metadata": {
    "id": "3cbeb23f"
   },
   "outputs": [],
   "source": [
    "import matplotlib.pyplot as plt\n",
    "import numpy as np\n",
    "\n",
    "def plot_regression_line(x, y, model):\n",
    "    plt.figure(figsize=(8, 5))\n",
    "    plt.scatter(x, y, color='blue', label='Dati reali')\n",
    "    predicted = model.predict(np.array(x).reshape(-1, 1))\n",
    "    plt.plot(x, predicted, color='red', label='Retta di regressione')\n",
    "    plt.xlabel(\"Altezza del padre (fheight)\")\n",
    "    plt.ylabel(\"Altezza del figlio (sheight)\")\n",
    "    plt.title(\"Regressione Lineare\")\n",
    "    plt.legend()\n",
    "    plt.grid(True)\n",
    "    plt.show()"
   ]
  },
  {
   "cell_type": "markdown",
   "id": "21e6808b",
   "metadata": {
    "id": "21e6808b"
   },
   "source": [
    "## 📏 4. Valutazione del modello"
   ]
  },
  {
   "cell_type": "markdown",
   "id": "2f711044",
   "metadata": {
    "id": "2f711044"
   },
   "source": [
    "### ✏️ Esercizio 4.1\n",
    "Calcola l’MSE (Mean Squared Error) e R² sul test set per valutare le performance del modello.\n"
   ]
  },
  {
   "cell_type": "code",
   "execution_count": null,
   "id": "OwTM2FiF_xas",
   "metadata": {
    "id": "OwTM2FiF_xas"
   },
   "outputs": [],
   "source": [
    "# Esercizio 4.1"
   ]
  },
  {
   "cell_type": "markdown",
   "id": "9b03c17c",
   "metadata": {
    "id": "9b03c17c"
   },
   "source": [
    "### ✏️ Esercizio 4.2\n",
    "Usa il modello per prevedere l’altezza di un figlio dato un valore ipotetico di altezza del padre (es. 70 pollici).\n"
   ]
  },
  {
   "cell_type": "code",
   "execution_count": null,
   "id": "TJuxVr0F_1kJ",
   "metadata": {
    "id": "TJuxVr0F_1kJ"
   },
   "outputs": [],
   "source": [
    "# Esercizio 4.2"
   ]
  },
  {
   "cell_type": "markdown",
   "id": "29cbf672",
   "metadata": {
    "id": "29cbf672"
   },
   "source": [
    "## 🚀 5. Pezzi finali"
   ]
  },
  {
   "cell_type": "markdown",
   "id": "bd28b477",
   "metadata": {
    "id": "bd28b477"
   },
   "source": [
    "### ✏️ Esercizio 5.1\n",
    "Aggiungi del rumore casuale ai dati e osserva come cambiano i risultati della regressione.\n"
   ]
  },
  {
   "cell_type": "code",
   "execution_count": null,
   "id": "sxGRb89O_3wZ",
   "metadata": {
    "id": "sxGRb89O_3wZ"
   },
   "outputs": [],
   "source": [
    "# Esercizio 5.1"
   ]
  },
  {
   "cell_type": "markdown",
   "id": "13d9eed1",
   "metadata": {
    "id": "13d9eed1"
   },
   "source": [
    "### ✏️ Esercizio 5.2\n",
    "Crea una funzione che prende in input l’altezza del padre da tastiera e restituisce la previsione dell’altezza del figlio.\n"
   ]
  },
  {
   "cell_type": "code",
   "execution_count": null,
   "id": "66Ba7B4R_5ma",
   "metadata": {
    "id": "66Ba7B4R_5ma"
   },
   "outputs": [],
   "source": [
    "# Esercizio 5.2"
   ]
  }
 ],
 "metadata": {
  "colab": {
   "provenance": []
  },
  "kernelspec": {
   "display_name": "Python 3 (ipykernel)",
   "language": "python",
   "name": "python3"
  },
  "language_info": {
   "codemirror_mode": {
    "name": "ipython",
    "version": 3
   },
   "file_extension": ".py",
   "mimetype": "text/x-python",
   "name": "python",
   "nbconvert_exporter": "python",
   "pygments_lexer": "ipython3",
   "version": "3.12.3"
  }
 },
 "nbformat": 4,
 "nbformat_minor": 5
}
